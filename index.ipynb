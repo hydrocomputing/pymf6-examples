{
 "cells": [
  {
   "cell_type": "markdown",
   "metadata": {},
   "source": [
    "# Interactive `pymf6` examples\n",
    "\n",
    "To start example in Notebook click: [ex02-tidal](notebooks/ex02-tidal.ipynb)\n",
    "\n",
    "# Scripts\n",
    "\n",
    "Open a new terminal *File --> New --> Terminal*\n",
    "\n",
    "## Modifying Constant Head Values\n",
    "\n",
    "Change to example directory:\n",
    "\n",
    "    cd examples/ex16-mfnwt2\n",
    "    \n",
    "and type:\n",
    "\n",
    "    python ../../scripts/chd.py\n",
    "    \n",
    "    \n",
    "## Showing Temporal Information\n",
    "\n",
    "Change to example directory:\n",
    "\n",
    "    cd examples/ex02-tidal\n",
    "    \n",
    "and type:\n",
    "\n",
    "    python ../../scripts/temporal.py\n",
    "    "
   ]
  },
  {
   "cell_type": "markdown",
   "metadata": {},
   "source": [
    "You can load the scripts here.\n",
    "Open a new Notebook *File --> New --> Terminal* (Select \"Python 3\" as kernel) \n",
    "In a new cell type:\n",
    "\n",
    "    %load scripts/chd.py\n",
    "\n",
    "and in another cell type:\n",
    "\n",
    "    %load scripts/temporal.py\n",
    "    \n",
    "to see the content of both scripts."
   ]
  }
 ],
 "metadata": {
  "kernelspec": {
   "display_name": "Python 3",
   "language": "python",
   "name": "python3"
  },
  "language_info": {
   "codemirror_mode": {
    "name": "ipython",
    "version": 3
   },
   "file_extension": ".py",
   "mimetype": "text/x-python",
   "name": "python",
   "nbconvert_exporter": "python",
   "pygments_lexer": "ipython3",
   "version": "3.7.3"
  }
 },
 "nbformat": 4,
 "nbformat_minor": 2
}
